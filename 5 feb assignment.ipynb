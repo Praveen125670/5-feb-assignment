{
 "cells": [
  {
   "cell_type": "code",
   "execution_count": null,
   "id": "163e6212-9c8f-4b4e-8063-292260e10ee2",
   "metadata": {},
   "outputs": [],
   "source": []
  },
  {
   "cell_type": "code",
   "execution_count": null,
   "id": "76f43dd6-cf74-4bc1-afdd-b0cc7779e955",
   "metadata": {},
   "outputs": [],
   "source": [
    "Q1. Explain Class and Object with respect to Object-Oriented Programming. Give a suitable example."
   ]
  },
  {
   "cell_type": "code",
   "execution_count": null,
   "id": "40a27290-d22b-4330-99c9-4f7db288f735",
   "metadata": {},
   "outputs": [],
   "source": [
    "class is the blueprint or it provide the structure in the program.\n",
    "object is the instance of a class , that is obeject is erived from the class,\n",
    "object also provide the security means it don't allow the user to access the\n",
    "class."
   ]
  },
  {
   "cell_type": "code",
   "execution_count": 2,
   "id": "f08e191a-4f00-451a-b9eb-9b825af9be1e",
   "metadata": {},
   "outputs": [],
   "source": [
    "class emp :\n",
    "    def __init__(self,name,position,emp_id):\n",
    "        self.name=name\n",
    "        self.position=position\n",
    "        self.emp_id=emp_id \n",
    "    def emp_details(self):\n",
    "        return self.name,self.position,self.emp_id\n",
    "        "
   ]
  },
  {
   "cell_type": "code",
   "execution_count": 3,
   "id": "ea9ee23d-25a5-4c13-9e3e-ad49a4350bb2",
   "metadata": {},
   "outputs": [],
   "source": [
    "rohan = emp(\"raju\",\"engineer\",100)"
   ]
  },
  {
   "cell_type": "code",
   "execution_count": 4,
   "id": "d40f1921-97c1-43b9-900b-27a812f13a17",
   "metadata": {},
   "outputs": [
    {
     "data": {
      "text/plain": [
       "'engineer'"
      ]
     },
     "execution_count": 4,
     "metadata": {},
     "output_type": "execute_result"
    }
   ],
   "source": [
    "rohan.position"
   ]
  },
  {
   "cell_type": "code",
   "execution_count": null,
   "id": "06750631-7d70-4ccb-b6bd-575068657354",
   "metadata": {},
   "outputs": [],
   "source": []
  },
  {
   "cell_type": "code",
   "execution_count": null,
   "id": "06bf5173-2b7a-44c1-b481-d839c7cd67fc",
   "metadata": {},
   "outputs": [],
   "source": [
    "Q2. Name the four pillars of OOPs."
   ]
  },
  {
   "cell_type": "code",
   "execution_count": null,
   "id": "a05b56ea-8105-44f0-9609-2ddff881488f",
   "metadata": {},
   "outputs": [],
   "source": [
    "Four Pillars of OOPs are :\n",
    "    - Polymorphism \n",
    "    - Encapsulation \n",
    "    - Abstraction \n",
    "    - Inheritance "
   ]
  },
  {
   "cell_type": "code",
   "execution_count": null,
   "id": "f97d2867-32da-4db4-9291-7caa667b3175",
   "metadata": {},
   "outputs": [],
   "source": []
  },
  {
   "cell_type": "code",
   "execution_count": null,
   "id": "4882db88-0ab9-4b54-ad1f-ab0d40dfa6ba",
   "metadata": {},
   "outputs": [],
   "source": [
    "Q3.Explain why the __init__() function is used. Give a suitable example."
   ]
  },
  {
   "cell_type": "code",
   "execution_count": null,
   "id": "4cfabc6a-d930-4434-aa97-b41ce3a06a72",
   "metadata": {},
   "outputs": [],
   "source": [
    " __init__() function is used to intialize,in other words it is used to store the value.\n",
    "- It is also called as 'constructor'.\n",
    "example is given below"
   ]
  },
  {
   "cell_type": "code",
   "execution_count": null,
   "id": "864abe4c-d49d-4c09-914b-077c915ad9c3",
   "metadata": {},
   "outputs": [],
   "source": [
    "class emp :\n",
    "    def __init__(self,name,position,emp_id):\n",
    "        self.name=name\n",
    "        self.position=position\n",
    "        self.emp_id=emp_id \n",
    "    def emp_details(self):\n",
    "        return self.name,self.position,self.emp_id"
   ]
  },
  {
   "cell_type": "code",
   "execution_count": null,
   "id": "48c09df0-165d-4558-9078-1f2d4d82b375",
   "metadata": {},
   "outputs": [],
   "source": []
  },
  {
   "cell_type": "code",
   "execution_count": null,
   "id": "7b04435f-6509-49d1-8d88-c0d7d5452a50",
   "metadata": {},
   "outputs": [],
   "source": [
    "Q4. Why self is used in OOPs?"
   ]
  },
  {
   "cell_type": "code",
   "execution_count": null,
   "id": "372529e0-8449-4f41-a85a-dcbe77130858",
   "metadata": {},
   "outputs": [],
   "source": [
    "self represents the instance of the class\n",
    "- By using the “self” we can access the attributes and methods of the class in python. \n",
    "-it also work as pointer .\n",
    "-we can use any word at the place of self."
   ]
  },
  {
   "cell_type": "code",
   "execution_count": null,
   "id": "2e051d1a-8eb4-436b-818a-a9a2fb6ea6ac",
   "metadata": {},
   "outputs": [],
   "source": []
  },
  {
   "cell_type": "code",
   "execution_count": null,
   "id": "db1cbe1b-73dd-4153-915f-35bd17494de8",
   "metadata": {},
   "outputs": [],
   "source": [
    "Q5. What is inheritance? Give an example for each type of inheritance."
   ]
  },
  {
   "cell_type": "code",
   "execution_count": 6,
   "id": "d6870bc0-04fb-4e6f-97bf-47fa389ff41a",
   "metadata": {},
   "outputs": [
    {
     "name": "stdout",
     "output_type": "stream",
     "text": [
      "this is function one\n",
      " this is function 2 \n"
     ]
    }
   ],
   "source": [
    "'''The method of inheriting the properties of parent class into a child class is known as inheritance. It is an OOP concept.\n",
    "examples:-\n",
    "Single Inheritance\n",
    "When a child class inherits only a single parent class.'''\n",
    "\n",
    "class Parent:\n",
    "     def func1(self):\n",
    "          print(\"this is function one\")\n",
    "class Child(Parent):\n",
    "     def func2(self):\n",
    "          print(\" this is function 2 \")\n",
    "ob = Child()\n",
    "ob.func1()\n",
    "ob.func2()\n"
   ]
  },
  {
   "cell_type": "code",
   "execution_count": 7,
   "id": "340f5731-e62b-4f41-837b-55611a698d0a",
   "metadata": {},
   "outputs": [
    {
     "name": "stdout",
     "output_type": "stream",
     "text": [
      "this is function 1\n",
      "this is function 2\n",
      "this is function 3\n"
     ]
    }
   ],
   "source": [
    "'''Multiple Inheritance\n",
    "When a child class inherits from more than one parent class.'''\n",
    "class Parent:\n",
    "   def func1(self):\n",
    "        print(\"this is function 1\")\n",
    "class Parent2:\n",
    "   def func2(self):\n",
    "        print(\"this is function 2\")\n",
    "class Child(Parent , Parent2):\n",
    "    def func3(self):\n",
    "        print(\"this is function 3\")\n",
    " \n",
    "ob = Child()\n",
    "ob.func1()\n",
    "ob.func2()\n",
    "ob.func3()"
   ]
  },
  {
   "cell_type": "code",
   "execution_count": 10,
   "id": "4afe0fdc-e8b8-471d-82ec-3ebe0be5b339",
   "metadata": {},
   "outputs": [
    {
     "name": "stdout",
     "output_type": "stream",
     "text": [
      "this is function 1\n",
      "this is function 2\n",
      "this is function 3\n"
     ]
    }
   ],
   "source": [
    "'''Multilevel Inheritance\n",
    "When a child class becomes a parent class for another child class.'''\n",
    "\n",
    "class Parent:\n",
    "      def func1(self):\n",
    "          print(\"this is function 1\")\n",
    "class Child(Parent):\n",
    "      def func2(self):\n",
    "          print(\"this is function 2\")\n",
    "class Child2(Child):\n",
    "      def func3(self):\n",
    "          print(\"this is function 3\")\n",
    "ob = Child2()\n",
    "ob.func1()\n",
    "ob.func2()\n",
    "ob.func3()"
   ]
  },
  {
   "cell_type": "code",
   "execution_count": 11,
   "id": "c1dbd346-28f1-438d-9989-444d8cba1672",
   "metadata": {},
   "outputs": [
    {
     "name": "stdout",
     "output_type": "stream",
     "text": [
      "this is function 1\n",
      "this is function 2\n"
     ]
    }
   ],
   "source": [
    "'''Hierarchical Inheritance\n",
    "Hierarchical inheritance involves multiple inheritance from the same base or parent class.'''\n",
    "\n",
    "class Parent:\n",
    "      def func1(self):\n",
    "          print(\"this is function 1\")\n",
    "class Child(Parent):\n",
    "      def func2(self):\n",
    "          print(\"this is function 2\")\n",
    "class Child2(Parent):\n",
    "      def func3(self):\n",
    "          print(\"this is function 3\")\n",
    " \n",
    "ob = Child()\n",
    "ob1 = Child2()\n",
    "ob.func1()\n",
    "ob.func2()"
   ]
  },
  {
   "cell_type": "code",
   "execution_count": null,
   "id": "a730b4fc-3952-4e9f-aaef-13376f898adc",
   "metadata": {},
   "outputs": [],
   "source": []
  }
 ],
 "metadata": {
  "kernelspec": {
   "display_name": "Python 3 (ipykernel)",
   "language": "python",
   "name": "python3"
  },
  "language_info": {
   "codemirror_mode": {
    "name": "ipython",
    "version": 3
   },
   "file_extension": ".py",
   "mimetype": "text/x-python",
   "name": "python",
   "nbconvert_exporter": "python",
   "pygments_lexer": "ipython3",
   "version": "3.10.8"
  }
 },
 "nbformat": 4,
 "nbformat_minor": 5
}
